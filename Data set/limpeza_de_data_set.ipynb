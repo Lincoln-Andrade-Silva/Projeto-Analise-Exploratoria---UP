{
  "nbformat": 4,
  "nbformat_minor": 0,
  "metadata": {
    "colab": {
      "provenance": [],
      "authorship_tag": "ABX9TyNbiLoz5XO9ZPj3h460yBWe",
      "include_colab_link": true
    },
    "kernelspec": {
      "name": "python3",
      "display_name": "Python 3"
    },
    "language_info": {
      "name": "python"
    }
  },
  "cells": [
    {
      "cell_type": "markdown",
      "metadata": {
        "id": "view-in-github",
        "colab_type": "text"
      },
      "source": [
        "<a href=\"https://colab.research.google.com/github/Lincoln-Andrade-Silva/Projeto-Analise-Exploratoria-UP/blob/main/Data%20set/limpeza_de_data_set.ipynb\" target=\"_parent\"><img src=\"https://colab.research.google.com/assets/colab-badge.svg\" alt=\"Open In Colab\"/></a>"
      ]
    },
    {
      "cell_type": "markdown",
      "source": [
        "\n",
        "## **Limpeza de Dados - Casos Covid 2019**"
      ],
      "metadata": {
        "id": "7GCwIJ70R2-L"
      }
    },
    {
      "cell_type": "code",
      "execution_count": null,
      "metadata": {
        "id": "7VwTqzF5IoTK"
      },
      "outputs": [],
      "source": [
        "import numpy as np\n",
        "import pandas as pd"
      ]
    },
    {
      "cell_type": "code",
      "source": [
        "from google.colab import drive\n",
        "drive.mount('/content/drive')"
      ],
      "metadata": {
        "id": "ANx4VxJOSgeA",
        "outputId": "56ec3e18-92af-49b4-aef5-28597cb0d21a",
        "colab": {
          "base_uri": "https://localhost:8080/"
        }
      },
      "execution_count": null,
      "outputs": [
        {
          "output_type": "stream",
          "name": "stdout",
          "text": [
            "Mounted at /content/drive\n"
          ]
        }
      ]
    },
    {
      "cell_type": "code",
      "source": [
        "df = pd.read_csv('/content/drive/MyDrive/UP/1Bimestre/2022-09-22_Casos_Covid_19_-_Base_de_Dados.csv',\n",
        "                    sep=';', encoding='iso-8859-1')"
      ],
      "metadata": {
        "id": "gSRA6eCoSsTg"
      },
      "execution_count": null,
      "outputs": []
    },
    {
      "cell_type": "markdown",
      "source": [
        "# **Extração e Limpeza dos dados**"
      ],
      "metadata": {
        "id": "a4zqldoDS93x"
      }
    },
    {
      "cell_type": "code",
      "source": [
        "#mostrar cabeçalho\n",
        "df.head()"
      ],
      "metadata": {
        "id": "L8AfSTXoTDdn",
        "outputId": "aa8df9ec-342f-4d87-dc7b-948a409f9476",
        "colab": {
          "base_uri": "https://localhost:8080/",
          "height": 302
        }
      },
      "execution_count": null,
      "outputs": [
        {
          "output_type": "execute_result",
          "data": {
            "text/plain": [
              "  DATA INCLUSÃO/ NOTIFICAÇÃO CLASSIFICAÇÃO FINAL  IDADE (anos) SEXO  \\\n",
              "0                 11/03/2020          CONFIRMADO            54    M   \n",
              "1                 12/03/2020          CONFIRMADO            15    M   \n",
              "2                 12/03/2020          CONFIRMADO            46    M   \n",
              "3                 12/03/2020          CONFIRMADO            25    F   \n",
              "4                 12/03/2020          CONFIRMADO            58    M   \n",
              "\n",
              "       BAIRRO DISTRITO RESIDÊNCIA INTERNADO (SIM/NÃO) DATA ÓBITO  \\\n",
              "0  CRISTO REI                DSMZ                 NÃO        NaN   \n",
              "1       XAXIM                DSBQ                 NÃO        NaN   \n",
              "2       XAXIM                DSBQ                 NÃO        NaN   \n",
              "3  CRISTO REI                DSMZ                 NÃO        NaN   \n",
              "4      MERCÊS                DSMZ                 NÃO        NaN   \n",
              "\n",
              "  DATA COLETA EXAME ENCERRAMENTO  \n",
              "0        09/03/2020   RECUPERADO  \n",
              "1        08/03/2020   RECUPERADO  \n",
              "2        09/03/2020   RECUPERADO  \n",
              "3        09/03/2020   RECUPERADO  \n",
              "4        09/03/2020   RECUPERADO  "
            ],
            "text/html": [
              "\n",
              "  <div id=\"df-474544dd-9335-4605-9511-f56e0e483676\">\n",
              "    <div class=\"colab-df-container\">\n",
              "      <div>\n",
              "<style scoped>\n",
              "    .dataframe tbody tr th:only-of-type {\n",
              "        vertical-align: middle;\n",
              "    }\n",
              "\n",
              "    .dataframe tbody tr th {\n",
              "        vertical-align: top;\n",
              "    }\n",
              "\n",
              "    .dataframe thead th {\n",
              "        text-align: right;\n",
              "    }\n",
              "</style>\n",
              "<table border=\"1\" class=\"dataframe\">\n",
              "  <thead>\n",
              "    <tr style=\"text-align: right;\">\n",
              "      <th></th>\n",
              "      <th>DATA INCLUSÃO/ NOTIFICAÇÃO</th>\n",
              "      <th>CLASSIFICAÇÃO FINAL</th>\n",
              "      <th>IDADE (anos)</th>\n",
              "      <th>SEXO</th>\n",
              "      <th>BAIRRO</th>\n",
              "      <th>DISTRITO RESIDÊNCIA</th>\n",
              "      <th>INTERNADO (SIM/NÃO)</th>\n",
              "      <th>DATA ÓBITO</th>\n",
              "      <th>DATA COLETA EXAME</th>\n",
              "      <th>ENCERRAMENTO</th>\n",
              "    </tr>\n",
              "  </thead>\n",
              "  <tbody>\n",
              "    <tr>\n",
              "      <th>0</th>\n",
              "      <td>11/03/2020</td>\n",
              "      <td>CONFIRMADO</td>\n",
              "      <td>54</td>\n",
              "      <td>M</td>\n",
              "      <td>CRISTO REI</td>\n",
              "      <td>DSMZ</td>\n",
              "      <td>NÃO</td>\n",
              "      <td>NaN</td>\n",
              "      <td>09/03/2020</td>\n",
              "      <td>RECUPERADO</td>\n",
              "    </tr>\n",
              "    <tr>\n",
              "      <th>1</th>\n",
              "      <td>12/03/2020</td>\n",
              "      <td>CONFIRMADO</td>\n",
              "      <td>15</td>\n",
              "      <td>M</td>\n",
              "      <td>XAXIM</td>\n",
              "      <td>DSBQ</td>\n",
              "      <td>NÃO</td>\n",
              "      <td>NaN</td>\n",
              "      <td>08/03/2020</td>\n",
              "      <td>RECUPERADO</td>\n",
              "    </tr>\n",
              "    <tr>\n",
              "      <th>2</th>\n",
              "      <td>12/03/2020</td>\n",
              "      <td>CONFIRMADO</td>\n",
              "      <td>46</td>\n",
              "      <td>M</td>\n",
              "      <td>XAXIM</td>\n",
              "      <td>DSBQ</td>\n",
              "      <td>NÃO</td>\n",
              "      <td>NaN</td>\n",
              "      <td>09/03/2020</td>\n",
              "      <td>RECUPERADO</td>\n",
              "    </tr>\n",
              "    <tr>\n",
              "      <th>3</th>\n",
              "      <td>12/03/2020</td>\n",
              "      <td>CONFIRMADO</td>\n",
              "      <td>25</td>\n",
              "      <td>F</td>\n",
              "      <td>CRISTO REI</td>\n",
              "      <td>DSMZ</td>\n",
              "      <td>NÃO</td>\n",
              "      <td>NaN</td>\n",
              "      <td>09/03/2020</td>\n",
              "      <td>RECUPERADO</td>\n",
              "    </tr>\n",
              "    <tr>\n",
              "      <th>4</th>\n",
              "      <td>12/03/2020</td>\n",
              "      <td>CONFIRMADO</td>\n",
              "      <td>58</td>\n",
              "      <td>M</td>\n",
              "      <td>MERCÊS</td>\n",
              "      <td>DSMZ</td>\n",
              "      <td>NÃO</td>\n",
              "      <td>NaN</td>\n",
              "      <td>09/03/2020</td>\n",
              "      <td>RECUPERADO</td>\n",
              "    </tr>\n",
              "  </tbody>\n",
              "</table>\n",
              "</div>\n",
              "      <button class=\"colab-df-convert\" onclick=\"convertToInteractive('df-474544dd-9335-4605-9511-f56e0e483676')\"\n",
              "              title=\"Convert this dataframe to an interactive table.\"\n",
              "              style=\"display:none;\">\n",
              "        \n",
              "  <svg xmlns=\"http://www.w3.org/2000/svg\" height=\"24px\"viewBox=\"0 0 24 24\"\n",
              "       width=\"24px\">\n",
              "    <path d=\"M0 0h24v24H0V0z\" fill=\"none\"/>\n",
              "    <path d=\"M18.56 5.44l.94 2.06.94-2.06 2.06-.94-2.06-.94-.94-2.06-.94 2.06-2.06.94zm-11 1L8.5 8.5l.94-2.06 2.06-.94-2.06-.94L8.5 2.5l-.94 2.06-2.06.94zm10 10l.94 2.06.94-2.06 2.06-.94-2.06-.94-.94-2.06-.94 2.06-2.06.94z\"/><path d=\"M17.41 7.96l-1.37-1.37c-.4-.4-.92-.59-1.43-.59-.52 0-1.04.2-1.43.59L10.3 9.45l-7.72 7.72c-.78.78-.78 2.05 0 2.83L4 21.41c.39.39.9.59 1.41.59.51 0 1.02-.2 1.41-.59l7.78-7.78 2.81-2.81c.8-.78.8-2.07 0-2.86zM5.41 20L4 18.59l7.72-7.72 1.47 1.35L5.41 20z\"/>\n",
              "  </svg>\n",
              "      </button>\n",
              "      \n",
              "  <style>\n",
              "    .colab-df-container {\n",
              "      display:flex;\n",
              "      flex-wrap:wrap;\n",
              "      gap: 12px;\n",
              "    }\n",
              "\n",
              "    .colab-df-convert {\n",
              "      background-color: #E8F0FE;\n",
              "      border: none;\n",
              "      border-radius: 50%;\n",
              "      cursor: pointer;\n",
              "      display: none;\n",
              "      fill: #1967D2;\n",
              "      height: 32px;\n",
              "      padding: 0 0 0 0;\n",
              "      width: 32px;\n",
              "    }\n",
              "\n",
              "    .colab-df-convert:hover {\n",
              "      background-color: #E2EBFA;\n",
              "      box-shadow: 0px 1px 2px rgba(60, 64, 67, 0.3), 0px 1px 3px 1px rgba(60, 64, 67, 0.15);\n",
              "      fill: #174EA6;\n",
              "    }\n",
              "\n",
              "    [theme=dark] .colab-df-convert {\n",
              "      background-color: #3B4455;\n",
              "      fill: #D2E3FC;\n",
              "    }\n",
              "\n",
              "    [theme=dark] .colab-df-convert:hover {\n",
              "      background-color: #434B5C;\n",
              "      box-shadow: 0px 1px 3px 1px rgba(0, 0, 0, 0.15);\n",
              "      filter: drop-shadow(0px 1px 2px rgba(0, 0, 0, 0.3));\n",
              "      fill: #FFFFFF;\n",
              "    }\n",
              "  </style>\n",
              "\n",
              "      <script>\n",
              "        const buttonEl =\n",
              "          document.querySelector('#df-474544dd-9335-4605-9511-f56e0e483676 button.colab-df-convert');\n",
              "        buttonEl.style.display =\n",
              "          google.colab.kernel.accessAllowed ? 'block' : 'none';\n",
              "\n",
              "        async function convertToInteractive(key) {\n",
              "          const element = document.querySelector('#df-474544dd-9335-4605-9511-f56e0e483676');\n",
              "          const dataTable =\n",
              "            await google.colab.kernel.invokeFunction('convertToInteractive',\n",
              "                                                     [key], {});\n",
              "          if (!dataTable) return;\n",
              "\n",
              "          const docLinkHtml = 'Like what you see? Visit the ' +\n",
              "            '<a target=\"_blank\" href=https://colab.research.google.com/notebooks/data_table.ipynb>data table notebook</a>'\n",
              "            + ' to learn more about interactive tables.';\n",
              "          element.innerHTML = '';\n",
              "          dataTable['output_type'] = 'display_data';\n",
              "          await google.colab.output.renderOutput(dataTable, element);\n",
              "          const docLink = document.createElement('div');\n",
              "          docLink.innerHTML = docLinkHtml;\n",
              "          element.appendChild(docLink);\n",
              "        }\n",
              "      </script>\n",
              "    </div>\n",
              "  </div>\n",
              "  "
            ]
          },
          "metadata": {},
          "execution_count": 20
        }
      ]
    },
    {
      "cell_type": "code",
      "source": [
        "print(\"O total de casos foi de \" + str(df.shape[0]))"
      ],
      "metadata": {
        "id": "tzd71Zs_TY5n",
        "outputId": "5460a503-9894-4233-ea68-08e3c508e7a4",
        "colab": {
          "base_uri": "https://localhost:8080/"
        }
      },
      "execution_count": null,
      "outputs": [
        {
          "output_type": "stream",
          "name": "stdout",
          "text": [
            "O total de casos foi de 520372\n"
          ]
        }
      ]
    },
    {
      "cell_type": "markdown",
      "source": [
        "# Visualizar dados nulos no data frame"
      ],
      "metadata": {
        "id": "ZvRFKZc5YF6f"
      }
    },
    {
      "cell_type": "code",
      "source": [
        "df.isnull().sum()"
      ],
      "metadata": {
        "id": "cRIpZIK_YDxn",
        "outputId": "e39b3442-2deb-4ddf-c969-fb8875c0f548",
        "colab": {
          "base_uri": "https://localhost:8080/"
        }
      },
      "execution_count": null,
      "outputs": [
        {
          "output_type": "execute_result",
          "data": {
            "text/plain": [
              "DATA INCLUSÃO/ NOTIFICAÇÃO         0\n",
              "CLASSIFICAÇÃO FINAL                0\n",
              "IDADE (anos)                       0\n",
              "SEXO                               0\n",
              "BAIRRO                         10183\n",
              "DISTRITO RESIDÊNCIA            10183\n",
              "INTERNADO (SIM/NÃO)                0\n",
              "DATA ÓBITO                    511866\n",
              "DATA COLETA EXAME                  0\n",
              "ENCERRAMENTO                       0\n",
              "dtype: int64"
            ]
          },
          "metadata": {},
          "execution_count": 83
        }
      ]
    },
    {
      "cell_type": "markdown",
      "source": [],
      "metadata": {
        "id": "q-f2XZUPZ1u1"
      }
    },
    {
      "cell_type": "markdown",
      "source": [
        "# Tratar valores redundantes na coluna SEXO. "
      ],
      "metadata": {
        "id": "nsCIYfpoU5CC"
      }
    },
    {
      "cell_type": "code",
      "source": [
        "# visualizar valores unicos\n",
        "\n",
        "df['SEXO'].unique()"
      ],
      "metadata": {
        "id": "ho-aIpQ9Ts0i",
        "outputId": "24cc41c3-e045-47bd-a12b-e891934787e8",
        "colab": {
          "base_uri": "https://localhost:8080/"
        }
      },
      "execution_count": null,
      "outputs": [
        {
          "output_type": "execute_result",
          "data": {
            "text/plain": [
              "array(['M', 'F', 'm', 'f'], dtype=object)"
            ]
          },
          "metadata": {},
          "execution_count": 84
        }
      ]
    },
    {
      "cell_type": "code",
      "source": [
        "# substituir valores m e f por M e F\n",
        "\n",
        "df['SEXO'] = df['SEXO'].replace({'m':'M', 'f':\"F\"})\n",
        "\n",
        "df['SEXO'].unique()"
      ],
      "metadata": {
        "id": "NgXeOsiEVyCj",
        "outputId": "e338265f-31da-4bbb-c25b-acc09c9c9fa7",
        "colab": {
          "base_uri": "https://localhost:8080/"
        }
      },
      "execution_count": null,
      "outputs": [
        {
          "output_type": "execute_result",
          "data": {
            "text/plain": [
              "array(['M', 'F'], dtype=object)"
            ]
          },
          "metadata": {},
          "execution_count": 85
        }
      ]
    },
    {
      "cell_type": "markdown",
      "source": [
        "# Removendo valores nulos na coluna BAIRRO"
      ],
      "metadata": {
        "id": "Te0JCl6pYlRs"
      }
    },
    {
      "cell_type": "code",
      "source": [
        "# removendo valores nulos\n",
        "\n",
        "df.dropna(subset=['BAIRRO'], inplace=True)\n",
        "df['BAIRRO'].unique()"
      ],
      "metadata": {
        "id": "lRN7Kp5-V979",
        "outputId": "7e6966d7-80ae-4e4b-9acc-aa9a5d02ad14",
        "colab": {
          "base_uri": "https://localhost:8080/"
        }
      },
      "execution_count": null,
      "outputs": [
        {
          "output_type": "execute_result",
          "data": {
            "text/plain": [
              "array(['CRISTO REI', 'XAXIM', 'MERCÊS', 'ÁGUA VERDE', 'BACACHERI',\n",
              "       'BATEL', 'BIGORRILHO', 'CABRAL', 'UBERABA', 'SANTA CÂNDIDA',\n",
              "       'FANNY', 'SÃO BRAZ', 'BAIRRO ALTO', 'PORTÃO', 'BOQUEIRÃO',\n",
              "       'CASCATINHA', 'CIDADE INDUSTRIAL DE CURITIBA', 'CAJURU', 'HAUER',\n",
              "       'SÍTIO CERCADO', 'SANTA QUITÉRIA', 'ALTO DA GLÓRIA',\n",
              "       'CAMPO COMPRIDO', 'TARUMÃ', 'ATUBA', 'CENTRO',\n",
              "       'CAMPINA DO SIQUEIRA', 'AHÚ', 'BOA VISTA', 'PINHEIRINHO',\n",
              "       'ALTO BOQUEIRÃO', 'VISTA ALEGRE', 'FAZENDINHA', 'SANTA FELICIDADE',\n",
              "       'REBOUÇAS', 'VILA IZABEL', 'MOSSUNGUÊ', 'PAROLIN',\n",
              "       'ALTO DA RUA XV', 'CAPÃO RASO', 'CENTRO CÍVICO', 'CAPÃO DA IMBUIA',\n",
              "       'UMBARÁ', 'BUTIATUVINHA', 'SÃO MIGUEL', 'ABRANCHES',\n",
              "       'JARDIM BOTÂNICO', 'SANTO INÁCIO', 'GUABIROTUBA', 'HUGO LANGE',\n",
              "       'JARDIM DAS AMÉRICAS', 'BOM RETIRO', 'NOVO MUNDO', 'BARREIRINHA',\n",
              "       'LAMENHA PEQUENA', 'GUAÍRA', 'PRADO VELHO', 'CACHOEIRA',\n",
              "       'PILARZINHO', 'JUVEVÊ', 'TINGUI', 'LINDÓIA', 'CAMPO DE SANTANA',\n",
              "       'ORLEANS', 'SÃO LOURENÇO', 'GANCHINHO', 'AUGUSTA', 'SÃO FRANCISCO',\n",
              "       'TATUQUARA', 'JARDIM SOCIAL', 'SÃO JOÃO', 'SEMINÁRIO', 'CAXIMBA',\n",
              "       'TABOÃO', 'RIVIERA'], dtype=object)"
            ]
          },
          "metadata": {},
          "execution_count": 86
        }
      ]
    },
    {
      "cell_type": "markdown",
      "source": [
        "# Removendo valores nulos na coluna DISTRITO RESIDÊNCIA"
      ],
      "metadata": {
        "id": "uDzSGNFDZG0g"
      }
    },
    {
      "cell_type": "code",
      "source": [
        "# removendo valores nulos\n",
        "\n",
        "df.dropna(subset=['DISTRITO RESIDÊNCIA'], inplace=True)\n",
        "df['DISTRITO RESIDÊNCIA'].unique()"
      ],
      "metadata": {
        "id": "6aLmgCSuZK2F",
        "outputId": "a3c346d5-db6b-472e-90a2-5c2b093290cf",
        "colab": {
          "base_uri": "https://localhost:8080/"
        }
      },
      "execution_count": null,
      "outputs": [
        {
          "output_type": "execute_result",
          "data": {
            "text/plain": [
              "array(['DSMZ', 'DSBQ', 'DSPR', 'DSBV', 'DSSF', 'DSCJ', 'DSPN', 'DSCIC',\n",
              "       'DSBN', 'DSTQ'], dtype=object)"
            ]
          },
          "metadata": {},
          "execution_count": 87
        }
      ]
    },
    {
      "cell_type": "markdown",
      "source": [
        "# Tratar valores redundantes na coluna INTERNADO (SIM/NÃO)."
      ],
      "metadata": {
        "id": "vpjW-WanZ_Ap"
      }
    },
    {
      "cell_type": "code",
      "source": [
        "# visualizar valores unicos\n",
        "\n",
        "df['INTERNADO (SIM/NÃO)'].unique()"
      ],
      "metadata": {
        "id": "3u2gKsqkZa9K",
        "outputId": "e765ec7b-bc2e-461f-cbd7-642ce96fd270",
        "colab": {
          "base_uri": "https://localhost:8080/"
        }
      },
      "execution_count": null,
      "outputs": [
        {
          "output_type": "execute_result",
          "data": {
            "text/plain": [
              "array(['NÃO', 'SIM', 'sIM'], dtype=object)"
            ]
          },
          "metadata": {},
          "execution_count": 88
        }
      ]
    },
    {
      "cell_type": "code",
      "source": [
        "# substituir valores m e f por M e F\n",
        "\n",
        "df['INTERNADO (SIM/NÃO)'] = df['INTERNADO (SIM/NÃO)'].replace({'sIM':'SIM'})\n",
        "\n",
        "df['INTERNADO (SIM/NÃO)'].unique()"
      ],
      "metadata": {
        "id": "6dFea1rbaDWJ",
        "outputId": "d8cdabd3-b71b-499e-cbe7-10fc12ca5384",
        "colab": {
          "base_uri": "https://localhost:8080/"
        }
      },
      "execution_count": null,
      "outputs": [
        {
          "output_type": "execute_result",
          "data": {
            "text/plain": [
              "array(['NÃO', 'SIM'], dtype=object)"
            ]
          },
          "metadata": {},
          "execution_count": 89
        }
      ]
    },
    {
      "cell_type": "markdown",
      "source": [
        "# Checando se a quantidade de óbitos confirmados é a mesma de datas de óbtios registrados"
      ],
      "metadata": {
        "id": "uuKDhyvGfXoq"
      }
    },
    {
      "cell_type": "code",
      "source": [
        "# Checando se a quantidade de óbitos é a mesma de datas de óbtios\n",
        "\n",
        "df_encerramentoobito = df[df['ENCERRAMENTO'] == 'ÓBITO CONF']\n",
        "\n",
        "print(\"Quantidade de datas de óbito: \" + str(df['DATA ÓBITO'].count()))\n",
        "print(\"Quantidade de encerramentos resultados em óbito: \" + str(df_encerramentoobito['ENCERRAMENTO'].count()))"
      ],
      "metadata": {
        "id": "nY1LZoFCascS",
        "outputId": "852cb19c-7ec3-4f25-f9ff-5dcbb89d3b51",
        "colab": {
          "base_uri": "https://localhost:8080/"
        }
      },
      "execution_count": null,
      "outputs": [
        {
          "output_type": "stream",
          "name": "stdout",
          "text": [
            "Quantidade de datas de óbito: 8506\n",
            "Quantidade de encerramentos resultados em óbito: 8506\n"
          ]
        }
      ]
    },
    {
      "cell_type": "markdown",
      "source": [
        "# **Salvando csv tratado no drive**"
      ],
      "metadata": {
        "id": "6s8winyYfy5_"
      }
    },
    {
      "cell_type": "code",
      "source": [
        "df.to_csv('/content/drive/MyDrive/UP/1Bimestre/2022-09-22_Casos_Covid_19_-_Base_de_Dados_Tratado.csv', index=False, sep=';', encoding='iso-8859-1')"
      ],
      "metadata": {
        "id": "fyD_313egFn5"
      },
      "execution_count": 98,
      "outputs": []
    }
  ]
}